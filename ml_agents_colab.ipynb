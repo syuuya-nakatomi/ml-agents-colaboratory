{
  "nbformat": 4,
  "nbformat_minor": 0,
  "metadata": {
    "colab": {
      "name": "ml_agents_colab.ipynb",
      "provenance": [],
      "authorship_tag": "ABX9TyOWrHgCFfFKoAo2xtJCQrAI",
      "include_colab_link": true
    },
    "kernelspec": {
      "name": "python3",
      "display_name": "Python 3"
    },
    "language_info": {
      "name": "python"
    }
  },
  "cells": [
    {
      "cell_type": "markdown",
      "metadata": {
        "id": "view-in-github",
        "colab_type": "text"
      },
      "source": [
        "<a href=\"https://colab.research.google.com/github/syuuya-nakatomi/ml-agents-colaboratory/blob/main/ml_agents_colab.ipynb\" target=\"_parent\"><img src=\"https://colab.research.google.com/assets/colab-badge.svg\" alt=\"Open In Colab\"/></a>"
      ]
    },
    {
      "cell_type": "code",
      "execution_count": null,
      "metadata": {
        "id": "4CUNX9dH7M5N"
      },
      "outputs": [],
      "source": [
        "import sys\n",
        "\n",
        "from google.colab import drive\n",
        "drive.mount('/content/drive')\n",
        "!mkdir -p /content/drive/'My Drive'/ml-agents-colab/\n",
        "%cd /content/drive/MyDrive/ml-agents-colab\n",
        "\n",
        "print(\"Python version: \")\n",
        "print(sys.version)\n",
        "\n",
        "# Cloning the ml-agents repo.\n",
        "!git clone --branch release_17 https://github.com/Unity-Technologies/ml-agents.git  > /dev/null 2>&1\n",
        "\n",
        "# Installing the ml-agents from the repo.\n",
        "!pip install -e ml-agents/ml-agents-envs/  > /dev/null 2>&1\n",
        "!pip install -e ml-agents/ml-agents/  > /dev/null 2>&1\n",
        "\n",
        "# Fetch the repo for env binary\n",
        "!git clone https://github.com/syuuya-nakatomi/ml-agents-colaboratory.git  > /dev/null 2>&1\n",
        "\n",
        "# Set the permissions\n",
        "!chmod -R 755 /content/drive/MyDrive/ml-agents-colab/ml-agents-colaboratory/Walker/Walker.x86_64\n",
        "!chmod -R 755 /content/drive/MyDrive/ml-agents-colab/ml-agents-colaboratory/Walker/UnityPlayer.so\n",
        "!ls -l /content/drive/MyDrive/ml-agents-colab/ml-agents-colaboratory/Walker\n",
        "\n",
        "# Set the Environment name and its Run Id\n",
        "env_name = \"/content/drive/MyDrive/ml-agents-colab/ml-agents-colaboratory/Walker/Walker.x86_64\"\n",
        "run_id = \"test_walker_run\"\n",
        "%load_ext tensorboard\n",
        "%tensorboard --logdir results\n",
        "\n",
        "!mlagents-learn ml-agents-colaboratory/Walker.yaml --run-id=$run_id --env=$env_name --no-graphics"
      ]
    }
  ]
}